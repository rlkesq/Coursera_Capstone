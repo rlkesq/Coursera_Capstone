{
 "cells": [
  {
   "cell_type": "markdown",
   "metadata": {},
   "source": [
    "# IBM Data Science Professional Capstone Project: Scraping, Parsing Table into Pandas DF for Neighborhood Clustering"
   ]
  },
  {
   "cell_type": "markdown",
   "metadata": {},
   "source": [
    "### Part I of III"
   ]
  },
  {
   "cell_type": "markdown",
   "metadata": {},
   "source": [
    "### In this three-part series of notebooks, we scrape from a Wikipedia article a table of postal codes, cities and neighborhoods in and around Toronto; we clean the data as necessary, geolocate each neighborhood and gather information regarding venues local to that neighborhood; finally, we perform a KMeans cluster analysis to identify neighborhoods sharing similarities and we visualize the result in the form of a tagged Folium map. "
   ]
  },
  {
   "cell_type": "markdown",
   "metadata": {},
   "source": [
    "### Notebook I:  The Neighborhoods DataFrame (Pandas)"
   ]
  },
  {
   "cell_type": "markdown",
   "metadata": {},
   "source": [
    "#### Import necessary libraries for our analysis"
   ]
  },
  {
   "cell_type": "code",
   "execution_count": 1,
   "metadata": {},
   "outputs": [
    {
     "name": "stdout",
     "output_type": "stream",
     "text": [
      "Libraries imported.\n"
     ]
    }
   ],
   "source": [
    "import numpy as np # library to handle data in a vectorized manner\n",
    "\n",
    "import pandas as pd # library for data analysis\n",
    "pd.set_option('display.max_columns', None)\n",
    "pd.set_option('display.max_rows', None)\n",
    "\n",
    "#!conda install -c conda-forge geopy --yes # uncomment this line if you haven't completed the Foursquare API lab\n",
    "from geopy.geocoders import Nominatim # convert an address into latitude and longitude values\n",
    "\n",
    "import requests # library to handle requests\n",
    "\n",
    "# Matplotlib and associated plotting modules\n",
    "import matplotlib.cm as cm\n",
    "import matplotlib.colors as colors\n",
    "\n",
    "# import k-means from clustering stage\n",
    "from sklearn.cluster import KMeans\n",
    "\n",
    "# !conda install -c conda-forge folium=0.5.0 --yes # uncomment this line if you haven't completed the Foursquare API lab\n",
    "import folium # map rendering library\n",
    "\n",
    "# install beautifulsoup4 if it is not already installed on your system\n",
    "import bs4  # beautifulsoup4 will be used for for stringifying scraped html\n",
    "from bs4 import BeautifulSoup\n",
    "\n",
    "print('Libraries imported.') \n"
   ]
  },
  {
   "cell_type": "markdown",
   "metadata": {},
   "source": [
    "#### Retrieve the Wikipedia article containing the Canadian regional Postal Code table; retrieve and stringify the HTML document using BeautifulSoup; and do a preliminary manipulation of the object to isolate the table"
   ]
  },
  {
   "cell_type": "code",
   "execution_count": 2,
   "metadata": {},
   "outputs": [
    {
     "data": {
      "text/plain": [
       "bs4.BeautifulSoup"
      ]
     },
     "execution_count": 2,
     "metadata": {},
     "output_type": "execute_result"
    }
   ],
   "source": [
    "       \n",
    "def parse_url(url):\n",
    "    response = requests.get(url)\n",
    "    soup = BeautifulSoup(response.text, 'lxml')\n",
    "    return soup\n",
    "    \n",
    "url = \"https://en.wikipedia.org/wiki/List_of_postal_codes_of_Canada:_M\"\n",
    "souper = parse_url(url)\n",
    "type(souper)\n",
    "     "
   ]
  },
  {
   "cell_type": "markdown",
   "metadata": {},
   "source": [
    "#### A quick inspection of the object reveals the table of interest (demarked by 'tbody' tags).  Further, the table comprises rows (demarked by 'tr'tags), the first row comprises column headings (demarked by 'th' tags) and the balance of the rows comprise data elements (demarked by 'td' tags).  Isolating the rows, we find that there is the single row of column headings followed by 289 rows of data.  Using Pandas, the BeautifulSoup Postal Code table object will be moved into a DataFrame ('pc_df') for further processing.  Finally, as requested in the exercise, we will delete rows of the table for which the Borough is indicated as 'Not Assigned' and will assign the name of the Borough to any neighbourhood in that Borough that othewise has no assigned name."
   ]
  },
  {
   "cell_type": "code",
   "execution_count": 3,
   "metadata": {},
   "outputs": [
    {
     "name": "stdout",
     "output_type": "stream",
     "text": [
      "Queen's Park  had a \"Not assigned\" neighborhood, which now has been assigned the name of the Borough\n",
      "pc_clean.shape is:  (212, 3)\n"
     ]
    }
   ],
   "source": [
    "raw_table = souper.tbody\n",
    "rows = raw_table.find_all('tr')\n",
    "n_rows = len(rows)\n",
    "\n",
    "header_row = rows[0].find_all('th')\n",
    "n_cols = len(header_row)\n",
    "col_names = list()\n",
    "[col_names.extend(header_row[col]) for col in range(n_cols)]\n",
    "col_names[-1] = col_names[-1][:-1]\n",
    "\n",
    "pc_df= pd.DataFrame(columns=col_names, index=range(0,len(rows)))\n",
    "for i in range(1,n_rows):\n",
    "    row_data = rows[i].find_all('td')\n",
    "    row_data = [row_data[0].text, row_data[1].text, (row_data[2].text)[:-1]]\n",
    "    for j in range(0,3):\n",
    "        pc_df.iat[i,j] = row_data[j]\n",
    "pc_df = pc_df[pc_df.Postcode.notnull()]\n",
    "pc_df=pc_df.reset_index(drop=True)\n",
    "pc_clean = pc_df[pc_df.Borough != 'Not assigned']\n",
    "pc_clean=pc_clean.reset_index(drop=True)\n",
    "\n",
    "# A spot check shows that at least one Borough has an unassigned Neighbourhood:  we will go through the dataframe and \n",
    "# assign to that and any other similarly unassigned Neighborhood the name of its respective Borough:\n",
    "\n",
    "for indx in range(0,len(pc_clean)):\n",
    "    if pc_clean.loc[indx,'Neighbourhood']=='Not assigned': \n",
    "        pc_clean.loc[indx,'Neighbourhood']=pc_clean.loc[indx,'Borough']\n",
    "        print(pc_clean.loc[indx,'Neighbourhood'], ' had a \"Not assigned\" neighborhood, which now has been assigned the name of the Borough')\n",
    "        \n",
    "print('pc_clean.shape is: ',pc_clean.shape)\n"
   ]
  },
  {
   "cell_type": "markdown",
   "metadata": {},
   "source": [
    "#### As requested in the exercise, for each Postal Code/Borough pair having multiple Neighborhoods we will collapse the group of Neighborhoods of that pair into a single entry by contatenating the names of those Neighborhoods into a single entry for that Postal Code/Borough pair. As a preliminary step, however, we will confirm whether any Postal Code/Neighborhood pair has more than Bourough: if it did, then we would subgroup the Neighborhoods of that Postcode by Borough in order to avoid loss of that information.  We find in the following that no Neighborhood within any Postcode has been assigned more than one Borough.\n"
   ]
  },
  {
   "cell_type": "code",
   "execution_count": 4,
   "metadata": {},
   "outputs": [
    {
     "name": "stdout",
     "output_type": "stream",
     "text": [
      "212 212\n"
     ]
    }
   ],
   "source": [
    "pc_clean_groupby_neighbourhood=pc_clean.groupby(by=['Neighbourhood'],axis=0)\n",
    "print(pc_clean_groupby_neighbourhood.size().sum(), pc_clean.shape[0])"
   ]
  },
  {
   "cell_type": "markdown",
   "metadata": {},
   "source": [
    "#### Now, we group 'pc_clean' by Borough and Postcode, resulting in a group of neighborhoods ('grp_membs') for each tuple (Borough, Postcode); then we construct a Python list, each member in which is a dictionary comprising a Postal Code, a Borough and the concatenated group of neighborhood names assigned to that Postcode/Borough pair.  The resulting list is converted to a Pandas DataFrame, <i>'canada_nhds'</i>:"
   ]
  },
  {
   "cell_type": "code",
   "execution_count": 5,
   "metadata": {},
   "outputs": [
    {
     "data": {
      "text/html": [
       "<div>\n",
       "<style scoped>\n",
       "    .dataframe tbody tr th:only-of-type {\n",
       "        vertical-align: middle;\n",
       "    }\n",
       "\n",
       "    .dataframe tbody tr th {\n",
       "        vertical-align: top;\n",
       "    }\n",
       "\n",
       "    .dataframe thead th {\n",
       "        text-align: right;\n",
       "    }\n",
       "</style>\n",
       "<table border=\"1\" class=\"dataframe\">\n",
       "  <thead>\n",
       "    <tr style=\"text-align: right;\">\n",
       "      <th></th>\n",
       "      <th>PostalCode</th>\n",
       "      <th>Borough</th>\n",
       "      <th>Neighbourhoods</th>\n",
       "    </tr>\n",
       "  </thead>\n",
       "  <tbody>\n",
       "    <tr>\n",
       "      <th>0</th>\n",
       "      <td>M4N</td>\n",
       "      <td>Central Toronto</td>\n",
       "      <td>Lawrence Park</td>\n",
       "    </tr>\n",
       "    <tr>\n",
       "      <th>1</th>\n",
       "      <td>M4P</td>\n",
       "      <td>Central Toronto</td>\n",
       "      <td>Davisville North</td>\n",
       "    </tr>\n",
       "    <tr>\n",
       "      <th>2</th>\n",
       "      <td>M4R</td>\n",
       "      <td>Central Toronto</td>\n",
       "      <td>North Toronto West</td>\n",
       "    </tr>\n",
       "    <tr>\n",
       "      <th>3</th>\n",
       "      <td>M4S</td>\n",
       "      <td>Central Toronto</td>\n",
       "      <td>Davisville</td>\n",
       "    </tr>\n",
       "    <tr>\n",
       "      <th>4</th>\n",
       "      <td>M4T</td>\n",
       "      <td>Central Toronto</td>\n",
       "      <td>Moore Park, Summerhill East</td>\n",
       "    </tr>\n",
       "  </tbody>\n",
       "</table>\n",
       "</div>"
      ],
      "text/plain": [
       "  PostalCode          Borough               Neighbourhoods\n",
       "0        M4N  Central Toronto                Lawrence Park\n",
       "1        M4P  Central Toronto             Davisville North\n",
       "2        M4R  Central Toronto           North Toronto West\n",
       "3        M4S  Central Toronto                   Davisville\n",
       "4        M4T  Central Toronto  Moore Park, Summerhill East"
      ]
     },
     "execution_count": 5,
     "metadata": {},
     "output_type": "execute_result"
    }
   ],
   "source": [
    "\n",
    "\n",
    "pc_clean_grouped = pc_clean.groupby(by=['Borough', 'Postcode'], axis=0)\n",
    "frame=[]\n",
    "for name, group in pc_clean_grouped:\n",
    "    grp_membs = pc_clean_grouped.get_group(name)\n",
    "    neighs = ''\n",
    "    for i in range(len(grp_membs)):\n",
    "        neighs = neighs + grp_membs.iloc[i,2] +', '\n",
    "    neighs = neighs[:-2]\n",
    "    frame.append({'Borough':list(name)[0],'PostalCode':list(name)[1], 'Neighbourhoods':neighs})\n",
    "frame_df= pd.DataFrame(frame)\n",
    "canada_nhds=frame_df[['PostalCode', 'Borough', 'Neighbourhoods']]\n",
    "canada_nhds.head()\n",
    "\n",
    "    "
   ]
  },
  {
   "cell_type": "markdown",
   "metadata": {},
   "source": [
    "#### As requested in the exercise, the shape of the final dataframe, \"canada_nhds\", is determined:"
   ]
  },
  {
   "cell_type": "code",
   "execution_count": 6,
   "metadata": {},
   "outputs": [
    {
     "data": {
      "text/plain": [
       "(103, 3)"
      ]
     },
     "execution_count": 6,
     "metadata": {},
     "output_type": "execute_result"
    }
   ],
   "source": [
    "canada_nhds.shape"
   ]
  },
  {
   "cell_type": "code",
   "execution_count": null,
   "metadata": {},
   "outputs": [],
   "source": []
  }
 ],
 "metadata": {
  "kernelspec": {
   "display_name": "Python 3",
   "language": "python",
   "name": "python3"
  },
  "language_info": {
   "codemirror_mode": {
    "name": "ipython",
    "version": 3
   },
   "file_extension": ".py",
   "mimetype": "text/x-python",
   "name": "python",
   "nbconvert_exporter": "python",
   "pygments_lexer": "ipython3",
   "version": "3.7.0"
  }
 },
 "nbformat": 4,
 "nbformat_minor": 2
}
