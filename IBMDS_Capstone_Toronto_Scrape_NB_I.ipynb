{
 "cells": [
  {
   "cell_type": "markdown",
   "metadata": {},
   "source": [
    "# IBM Data Science Professional Capstone Project: Scraping, Parsing Table into Pandas DF for Neighborhood Clustering"
   ]
  },
  {
   "cell_type": "markdown",
   "metadata": {},
   "source": [
    "### In this three-part series of notebooks, we scrape from a Wikipedia article a table of postal codes, cities and neighborhoods in and around Toronto; we clean the data as necessary, geolocate each neighborhood and gather information regarding venues local to that neighborhood; finally, we perform a KMeans cluster analysis to identify neighborhoods sharing similarities and we visualize the result in the form of a tagged Folium map. "
   ]
  },
  {
   "cell_type": "markdown",
   "metadata": {},
   "source": [
    "### Notebook I:  The Neighborhoods DataFrame (Pandas)"
   ]
  },
  {
   "cell_type": "markdown",
   "metadata": {},
   "source": [
    "#### Import necessary libraries for our analysis"
   ]
  },
  {
   "cell_type": "code",
   "execution_count": 81,
   "metadata": {},
   "outputs": [
    {
     "name": "stdout",
     "output_type": "stream",
     "text": [
      "Libraries imported.\n"
     ]
    }
   ],
   "source": [
    "import numpy as np # library to handle data in a vectorized manner\n",
    "\n",
    "import pandas as pd # library for data analysis\n",
    "pd.set_option('display.max_columns', None)\n",
    "pd.set_option('display.max_rows', None)\n",
    "\n",
    "#!conda install -c conda-forge geopy --yes # uncomment this line if you haven't completed the Foursquare API lab\n",
    "from geopy.geocoders import Nominatim # convert an address into latitude and longitude values\n",
    "\n",
    "import requests # library to handle requests\n",
    "\n",
    "# Matplotlib and associated plotting modules\n",
    "import matplotlib.cm as cm\n",
    "import matplotlib.colors as colors\n",
    "\n",
    "# import k-means from clustering stage\n",
    "from sklearn.cluster import KMeans\n",
    "\n",
    "# !conda install -c conda-forge folium=0.5.0 --yes # uncomment this line if you haven't completed the Foursquare API lab\n",
    "import folium # map rendering library\n",
    "\n",
    "# install beautifulsoup4 if it is not already installed on your system\n",
    "import bs4  # beautifulsoup4 will be used for for stringifying scraped html\n",
    "from bs4 import BeautifulSoup\n",
    "\n",
    "print('Libraries imported.') \n"
   ]
  },
  {
   "cell_type": "markdown",
   "metadata": {},
   "source": [
    "#### Retrieve the Wikipedia article containing the Canadian regional Postal Code table; retrieve and stringify the HTML document using BeautifulSoup; and do a preliminary manipulation of the object to isolate the table"
   ]
  },
  {
   "cell_type": "code",
   "execution_count": 82,
   "metadata": {},
   "outputs": [
    {
     "data": {
      "text/plain": [
       "bs4.BeautifulSoup"
      ]
     },
     "execution_count": 82,
     "metadata": {},
     "output_type": "execute_result"
    }
   ],
   "source": [
    "       \n",
    "def parse_url(url):\n",
    "    response = requests.get(url)\n",
    "    soup = BeautifulSoup(response.text, 'lxml')\n",
    "    return soup\n",
    "    \n",
    "url = \"https://en.wikipedia.org/wiki/List_of_postal_codes_of_Canada:_M\"\n",
    "souper = parse_url(url)\n",
    "type(souper)\n",
    "     "
   ]
  },
  {
   "cell_type": "markdown",
   "metadata": {},
   "source": [
    "#### A quick inspection of the object reveals the table of interest (demarked by 'tbody' tags).  Further, the table comprises rows (demarked by 'tr'tags), the first row comprises column headings (demarked by 'th' tags) and the balance of the rows comprise data elements (demarked by 'td' tags).  Isolating the rows, we find that there is the single row of column headings followed by 289 rows of data.  Using Pandas, the BeautifulSoup Postal Code table object will be moved into a DataFrame ('pc_df') for further processing.  Finally, as requested in the exercise, we will delete rows of the table for which the Borough is indicated as 'Not Assigned' and will assign the name of the Borough to any neighbourhood in that Borough that othewise has no assigned name."
   ]
  },
  {
   "cell_type": "code",
   "execution_count": 85,
   "metadata": {},
   "outputs": [
    {
     "name": "stdout",
     "output_type": "stream",
     "text": [
      "Queen's Park  had a \"Not assigned\" neighborhood, which now has been assigned the name of the Borough\n",
      "pc_clean.shape is:  (212, 3)\n"
     ]
    }
   ],
   "source": [
    "raw_table = souper.tbody\n",
    "rows = raw_table.find_all('tr')\n",
    "n_rows = len(rows)\n",
    "\n",
    "header_row = rows[0].find_all('th')\n",
    "n_cols = len(header_row)\n",
    "col_names = list()\n",
    "[col_names.extend(header_row[col]) for col in range(n_cols)]\n",
    "col_names[-1] = col_names[-1][:-1]\n",
    "\n",
    "pc_df= pd.DataFrame(columns=col_names, index=range(0,len(rows)))\n",
    "for i in range(1,n_rows):\n",
    "    row_data = rows[i].find_all('td')\n",
    "    row_data = [row_data[0].text, row_data[1].text, (row_data[2].text)[:-1]]\n",
    "    for j in range(0,3):\n",
    "        pc_df.iat[i,j] = row_data[j]\n",
    "pc_df = pc_df[pc_df.Postcode.notnull()]\n",
    "pc_df=pc_df.reset_index(drop=True)\n",
    "pc_clean = pc_df[pc_df.Borough != 'Not assigned']\n",
    "pc_clean=pc_clean.reset_index(drop=True)\n",
    "\n",
    "# A spot check shows that at least one Borough has an unassigned Neighbourhood:  we will go through the dataframe and \n",
    "# assign to that and any other similarly unassigned Neighborhood the name of its respective Borough:\n",
    "\n",
    "for indx in range(0,len(pc_clean)):\n",
    "    if pc_clean.loc[indx,'Neighbourhood']=='Not assigned': \n",
    "        pc_clean.loc[indx,'Neighbourhood']=pc_clean.loc[indx,'Borough']\n",
    "        print(pc_clean.loc[indx,'Neighbourhood'], ' had a \"Not assigned\" neighborhood, which now has been assigned the name of the Borough')\n",
    "        \n",
    "print('pc_clean.shape is: ',pc_clean.shape)\n"
   ]
  },
  {
   "cell_type": "markdown",
   "metadata": {},
   "source": [
    "#### As requested in the exercise, for each Postal Code/Borough pair having multiple Neighborhoods we will collapse the group of Neighborhoods of that pair into a single entry by contatenating the names of those Neighborhoods into a single entry for that Postal Code/Borough pair. \n"
   ]
  },
  {
   "cell_type": "code",
   "execution_count": 86,
   "metadata": {},
   "outputs": [
    {
     "name": "stdout",
     "output_type": "stream",
     "text": [
      "212 212\n"
     ]
    }
   ],
   "source": [
    "pc_clean_groupby_neighbourhood=pc_clean.groupby(by=['Neighbourhood'],axis=0)\n",
    "print(pc_clean_groupby_neighbourhood.size().sum(), pc_clean.shape[0])"
   ]
  },
  {
   "cell_type": "markdown",
   "metadata": {},
   "source": [
    "#### We now proceed to reform our dataframe as requested:"
   ]
  },
  {
   "cell_type": "code",
   "execution_count": 87,
   "metadata": {},
   "outputs": [
    {
     "data": {
      "text/html": [
       "<div>\n",
       "<style scoped>\n",
       "    .dataframe tbody tr th:only-of-type {\n",
       "        vertical-align: middle;\n",
       "    }\n",
       "\n",
       "    .dataframe tbody tr th {\n",
       "        vertical-align: top;\n",
       "    }\n",
       "\n",
       "    .dataframe thead th {\n",
       "        text-align: right;\n",
       "    }\n",
       "</style>\n",
       "<table border=\"1\" class=\"dataframe\">\n",
       "  <thead>\n",
       "    <tr style=\"text-align: right;\">\n",
       "      <th></th>\n",
       "      <th>Postcode</th>\n",
       "      <th>Borough</th>\n",
       "      <th>Neighborhoods</th>\n",
       "    </tr>\n",
       "  </thead>\n",
       "  <tbody>\n",
       "    <tr>\n",
       "      <th>0</th>\n",
       "      <td>M3A</td>\n",
       "      <td>Central Toronto</td>\n",
       "      <td>Lawrence Park, Roselawn, Davisville North, For...</td>\n",
       "    </tr>\n",
       "    <tr>\n",
       "      <th>1</th>\n",
       "      <td>M4A</td>\n",
       "      <td>Downtown Toronto</td>\n",
       "      <td>Harbourfront, Regent Park, Ryerson, Garden Dis...</td>\n",
       "    </tr>\n",
       "    <tr>\n",
       "      <th>2</th>\n",
       "      <td>M5A</td>\n",
       "      <td>East Toronto</td>\n",
       "      <td>The Beaches, The Danforth West, Riverdale, The...</td>\n",
       "    </tr>\n",
       "    <tr>\n",
       "      <th>3</th>\n",
       "      <td>M5A</td>\n",
       "      <td>East York</td>\n",
       "      <td>Woodbine Gardens, Parkview Hill, Woodbine Heig...</td>\n",
       "    </tr>\n",
       "    <tr>\n",
       "      <th>4</th>\n",
       "      <td>M6A</td>\n",
       "      <td>Etobicoke</td>\n",
       "      <td>Islington Avenue, Cloverdale, Islington, Marti...</td>\n",
       "    </tr>\n",
       "    <tr>\n",
       "      <th>5</th>\n",
       "      <td>M6A</td>\n",
       "      <td>Mississauga</td>\n",
       "      <td>Canada Post Gateway Processing Centre</td>\n",
       "    </tr>\n",
       "    <tr>\n",
       "      <th>6</th>\n",
       "      <td>M7A</td>\n",
       "      <td>North York</td>\n",
       "      <td>Parkwoods, Victoria Village, Lawrence Heights,...</td>\n",
       "    </tr>\n",
       "    <tr>\n",
       "      <th>7</th>\n",
       "      <td>M9A</td>\n",
       "      <td>Queen's Park</td>\n",
       "      <td>Queen's Park</td>\n",
       "    </tr>\n",
       "    <tr>\n",
       "      <th>8</th>\n",
       "      <td>M1B</td>\n",
       "      <td>Scarborough</td>\n",
       "      <td>Rouge, Malvern, Highland Creek, Rouge Hill, Po...</td>\n",
       "    </tr>\n",
       "    <tr>\n",
       "      <th>9</th>\n",
       "      <td>M1B</td>\n",
       "      <td>West Toronto</td>\n",
       "      <td>Dovercourt Village, Dufferin, Little Portugal,...</td>\n",
       "    </tr>\n",
       "    <tr>\n",
       "      <th>10</th>\n",
       "      <td>M3B</td>\n",
       "      <td>York</td>\n",
       "      <td>Humewood-Cedarvale, Caledonia-Fairbanks, Del R...</td>\n",
       "    </tr>\n",
       "  </tbody>\n",
       "</table>\n",
       "</div>"
      ],
      "text/plain": [
       "   Postcode           Borough  \\\n",
       "0       M3A   Central Toronto   \n",
       "1       M4A  Downtown Toronto   \n",
       "2       M5A      East Toronto   \n",
       "3       M5A         East York   \n",
       "4       M6A         Etobicoke   \n",
       "5       M6A       Mississauga   \n",
       "6       M7A        North York   \n",
       "7       M9A      Queen's Park   \n",
       "8       M1B       Scarborough   \n",
       "9       M1B      West Toronto   \n",
       "10      M3B              York   \n",
       "\n",
       "                                        Neighborhoods  \n",
       "0   Lawrence Park, Roselawn, Davisville North, For...  \n",
       "1   Harbourfront, Regent Park, Ryerson, Garden Dis...  \n",
       "2   The Beaches, The Danforth West, Riverdale, The...  \n",
       "3   Woodbine Gardens, Parkview Hill, Woodbine Heig...  \n",
       "4   Islington Avenue, Cloverdale, Islington, Marti...  \n",
       "5               Canada Post Gateway Processing Centre  \n",
       "6   Parkwoods, Victoria Village, Lawrence Heights,...  \n",
       "7                                        Queen's Park  \n",
       "8   Rouge, Malvern, Highland Creek, Rouge Hill, Po...  \n",
       "9   Dovercourt Village, Dufferin, Little Portugal,...  \n",
       "10  Humewood-Cedarvale, Caledonia-Fairbanks, Del R...  "
      ]
     },
     "execution_count": 87,
     "metadata": {},
     "output_type": "execute_result"
    }
   ],
   "source": [
    "pc_clean_groupby_borough = pc_clean.groupby(by=['Borough'], axis=0)\n",
    "\n",
    "frame = []\n",
    "for name, group in pc_clean_groupby_borough:\n",
    "    grp_membs = pc_clean_groupby_borough.get_group(name)\n",
    "    neighs = ''\n",
    "    for i in range(len(grp_membs)):\n",
    "        neighs = neighs + grp_membs.iloc[i,2] +', '\n",
    "    neighs = neighs[:-2]\n",
    "    frame.append({'Borough':name, 'Neighborhoods':neighs})\n",
    "    \n",
    "frame_df=pd.DataFrame(frame)\n",
    "postal_df = pc_clean['Postcode']\n",
    "frame_df['Postcode']=postal_df\n",
    "canada_nhds=frame_df[['Postcode','Borough','Neighborhoods']]\n",
    "canada_nhds\n"
   ]
  },
  {
   "cell_type": "markdown",
   "metadata": {},
   "source": [
    "#### As requested in the exercise, the shape of the final dataframe, \"canada_nhs\", is determined:"
   ]
  },
  {
   "cell_type": "code",
   "execution_count": 79,
   "metadata": {},
   "outputs": [
    {
     "data": {
      "text/plain": [
       "(11, 3)"
      ]
     },
     "execution_count": 79,
     "metadata": {},
     "output_type": "execute_result"
    }
   ],
   "source": [
    "canada_nhds.shape"
   ]
  },
  {
   "cell_type": "code",
   "execution_count": null,
   "metadata": {},
   "outputs": [],
   "source": []
  }
 ],
 "metadata": {
  "kernelspec": {
   "display_name": "Python 3",
   "language": "python",
   "name": "python3"
  },
  "language_info": {
   "codemirror_mode": {
    "name": "ipython",
    "version": 3
   },
   "file_extension": ".py",
   "mimetype": "text/x-python",
   "name": "python",
   "nbconvert_exporter": "python",
   "pygments_lexer": "ipython3",
   "version": "3.7.0"
  }
 },
 "nbformat": 4,
 "nbformat_minor": 2
}
